{
 "cells": [
  {
   "cell_type": "code",
   "execution_count": 1,
   "id": "87fba8bf-264b-44e9-9b17-7eb0d392ace7",
   "metadata": {},
   "outputs": [
    {
     "name": "stdout",
     "output_type": "stream",
     "text": [
      "Fetching coins 1 to 100...\n",
      "Request failed: 405\n",
      "Total Records Scraped: 0\n"
     ]
    }
   ],
   "source": [
    "import pandas as pd\n",
    "import requests\n",
    "import time\n",
    "\n",
    "data = []\n",
    "start = 1   # starting rank\n",
    "total_records = 1200  # how many you want\n",
    "\n",
    "headers = {\n",
    "    \"User-Agent\": \"Mozilla/5.0\"\n",
    "}\n",
    "\n",
    "while start <= total_records:\n",
    "    print(f\"Fetching coins {start} to {start+limit-1}...\")\n",
    "\n",
    "   # url = f\"https://api.coinmarketcap.com/data-api/v3/cryptocurrency/listing?start={start}&limit={limit}&sortBy=market_cap&sortType=desc&cryptoType=all&tagType=all&audited=false\"\n",
    "    url = f\"https://api.coinmarketcap.com/data-api/v3/airdrop/events/query\"\n",
    "    r = requests.get(url, headers=headers)\n",
    "    if r.status_code != 200:\n",
    "        print(\"Request failed:\", r.status_code)\n",
    "        break\n",
    "\n",
    "    result = r.json()\n",
    "    coins = result.get(\"data\", {}).get(\"cryptoCurrencyList\", [])\n",
    "    if not coins:\n",
    "        break\n",
    "\n",
    "    for c in coins:\n",
    "        item = {\n",
    "            \"Name\": c.get(\"name\"),\n",
    "            \"Symbol\": c.get(\"symbol\"),\n",
    "            \"Price\": c.get(\"quotes\", [{}])[0].get(\"price\"),\n",
    "            \"Market Cap\": c.get(\"quotes\", [{}])[0].get(\"marketCap\"),\n",
    "            \"24h Change (%)\": c.get(\"quotes\", [{}])[0].get(\"percentChange24h\"),\n",
    "            \"7d Change (%)\": c.get(\"quotes\", [{}])[0].get(\"percentChange7d\"),\n",
    "            \"Volume 24h\": c.get(\"quotes\", [{}])[0].get(\"volume24h\"),\n",
    "            \"Circulating Supply\": c.get(\"circulatingSupply\")\n",
    "        }\n",
    "        data.append(item)\n",
    "\n",
    "    start += limit\n",
    "    time.sleep(1)  # polite delay\n",
    "\n",
    "# Save to CSV\n",
    "df = pd.DataFrame(data)\n",
    "df.to_csv(\"coinmarketcap_pagination.csv\", index=False, encoding=\"utf-8-sig\")\n",
    "\n",
    "print(\"Total Records Scraped:\", len(df))\n"
   ]
  },
  {
   "cell_type": "code",
   "execution_count": 2,
   "id": "09a8fd61-171c-4e4f-8ff4-eb495c610d4c",
   "metadata": {},
   "outputs": [],
   "source": []
  },
  {
   "cell_type": "code",
   "execution_count": 8,
   "id": "36cad9b6-5cd6-4533-8ba7-ad934a119cb0",
   "metadata": {},
   "outputs": [],
   "source": [
    "import pandas as pd\n",
    "import numpy as np\n",
    "import matplotlib.pyplot as plt\n",
    "import seaborn as sns\n",
    "path = pd.read_csv(r\"D:\\Innomatics\\Webscraping\\coinmarketcap_pagination.xls\")"
   ]
  },
  {
   "cell_type": "code",
   "execution_count": 9,
   "id": "c6c5e54e-5cba-4720-b54a-b594973944ec",
   "metadata": {},
   "outputs": [
    {
     "data": {
      "text/html": [
       "<div>\n",
       "<style scoped>\n",
       "    .dataframe tbody tr th:only-of-type {\n",
       "        vertical-align: middle;\n",
       "    }\n",
       "\n",
       "    .dataframe tbody tr th {\n",
       "        vertical-align: top;\n",
       "    }\n",
       "\n",
       "    .dataframe thead th {\n",
       "        text-align: right;\n",
       "    }\n",
       "</style>\n",
       "<table border=\"1\" class=\"dataframe\">\n",
       "  <thead>\n",
       "    <tr style=\"text-align: right;\">\n",
       "      <th></th>\n",
       "      <th>Name</th>\n",
       "      <th>Symbol</th>\n",
       "      <th>Price</th>\n",
       "      <th>Market Cap</th>\n",
       "      <th>24h Change (%)</th>\n",
       "      <th>7d Change (%)</th>\n",
       "      <th>Volume 24h</th>\n",
       "      <th>Circulating Supply</th>\n",
       "    </tr>\n",
       "  </thead>\n",
       "  <tbody>\n",
       "    <tr>\n",
       "      <th>0</th>\n",
       "      <td>Bitcoin</td>\n",
       "      <td>BTC</td>\n",
       "      <td>112342.690531</td>\n",
       "      <td>2.237472e+12</td>\n",
       "      <td>1.274604</td>\n",
       "      <td>2.057478</td>\n",
       "      <td>4.785771e+10</td>\n",
       "      <td>1.991649e+07</td>\n",
       "    </tr>\n",
       "    <tr>\n",
       "      <th>1</th>\n",
       "      <td>Ethereum</td>\n",
       "      <td>ETH</td>\n",
       "      <td>4418.606321</td>\n",
       "      <td>5.333488e+11</td>\n",
       "      <td>0.028446</td>\n",
       "      <td>1.749863</td>\n",
       "      <td>3.626620e+10</td>\n",
       "      <td>1.207052e+08</td>\n",
       "    </tr>\n",
       "    <tr>\n",
       "      <th>2</th>\n",
       "      <td>XRP</td>\n",
       "      <td>XRP</td>\n",
       "      <td>2.845007</td>\n",
       "      <td>1.692274e+11</td>\n",
       "      <td>-0.060390</td>\n",
       "      <td>-1.052339</td>\n",
       "      <td>5.004582e+09</td>\n",
       "      <td>5.948226e+10</td>\n",
       "    </tr>\n",
       "    <tr>\n",
       "      <th>3</th>\n",
       "      <td>Tether USDt</td>\n",
       "      <td>USDT</td>\n",
       "      <td>1.000161</td>\n",
       "      <td>1.685677e+11</td>\n",
       "      <td>-0.011607</td>\n",
       "      <td>0.010898</td>\n",
       "      <td>1.067136e+11</td>\n",
       "      <td>1.685405e+11</td>\n",
       "    </tr>\n",
       "    <tr>\n",
       "      <th>4</th>\n",
       "      <td>BNB</td>\n",
       "      <td>BNB</td>\n",
       "      <td>850.259470</td>\n",
       "      <td>1.183456e+11</td>\n",
       "      <td>0.140122</td>\n",
       "      <td>-0.626665</td>\n",
       "      <td>1.843423e+09</td>\n",
       "      <td>1.391876e+08</td>\n",
       "    </tr>\n",
       "    <tr>\n",
       "      <th>...</th>\n",
       "      <td>...</td>\n",
       "      <td>...</td>\n",
       "      <td>...</td>\n",
       "      <td>...</td>\n",
       "      <td>...</td>\n",
       "      <td>...</td>\n",
       "      <td>...</td>\n",
       "      <td>...</td>\n",
       "    </tr>\n",
       "    <tr>\n",
       "      <th>1195</th>\n",
       "      <td>Skate</td>\n",
       "      <td>SKATE</td>\n",
       "      <td>0.041013</td>\n",
       "      <td>8.748253e+06</td>\n",
       "      <td>1.780715</td>\n",
       "      <td>-1.327153</td>\n",
       "      <td>2.705730e+06</td>\n",
       "      <td>2.133053e+08</td>\n",
       "    </tr>\n",
       "    <tr>\n",
       "      <th>1196</th>\n",
       "      <td>Atletico De Madrid Fan Token</td>\n",
       "      <td>ATM</td>\n",
       "      <td>1.249740</td>\n",
       "      <td>8.747688e+06</td>\n",
       "      <td>-1.108735</td>\n",
       "      <td>-3.054311</td>\n",
       "      <td>3.808889e+06</td>\n",
       "      <td>6.999607e+06</td>\n",
       "    </tr>\n",
       "    <tr>\n",
       "      <th>1197</th>\n",
       "      <td>SIGMA</td>\n",
       "      <td>SIGMA</td>\n",
       "      <td>0.009716</td>\n",
       "      <td>8.743341e+06</td>\n",
       "      <td>0.350928</td>\n",
       "      <td>-8.464239</td>\n",
       "      <td>1.126987e+06</td>\n",
       "      <td>8.998492e+08</td>\n",
       "    </tr>\n",
       "    <tr>\n",
       "      <th>1198</th>\n",
       "      <td>Dragonchain</td>\n",
       "      <td>DRGN</td>\n",
       "      <td>0.023507</td>\n",
       "      <td>8.715613e+06</td>\n",
       "      <td>-8.887201</td>\n",
       "      <td>-4.276849</td>\n",
       "      <td>2.064680e+04</td>\n",
       "      <td>3.707727e+08</td>\n",
       "    </tr>\n",
       "    <tr>\n",
       "      <th>1199</th>\n",
       "      <td>SwissCheese</td>\n",
       "      <td>SWCH</td>\n",
       "      <td>0.197706</td>\n",
       "      <td>8.649420e+06</td>\n",
       "      <td>-0.072237</td>\n",
       "      <td>-1.474302</td>\n",
       "      <td>3.411759e+06</td>\n",
       "      <td>4.374880e+07</td>\n",
       "    </tr>\n",
       "  </tbody>\n",
       "</table>\n",
       "<p>1200 rows × 8 columns</p>\n",
       "</div>"
      ],
      "text/plain": [
       "                              Name Symbol          Price    Market Cap  \\\n",
       "0                          Bitcoin    BTC  112342.690531  2.237472e+12   \n",
       "1                         Ethereum    ETH    4418.606321  5.333488e+11   \n",
       "2                              XRP    XRP       2.845007  1.692274e+11   \n",
       "3                      Tether USDt   USDT       1.000161  1.685677e+11   \n",
       "4                              BNB    BNB     850.259470  1.183456e+11   \n",
       "...                            ...    ...            ...           ...   \n",
       "1195                         Skate  SKATE       0.041013  8.748253e+06   \n",
       "1196  Atletico De Madrid Fan Token    ATM       1.249740  8.747688e+06   \n",
       "1197                         SIGMA  SIGMA       0.009716  8.743341e+06   \n",
       "1198                   Dragonchain   DRGN       0.023507  8.715613e+06   \n",
       "1199                   SwissCheese   SWCH       0.197706  8.649420e+06   \n",
       "\n",
       "      24h Change (%)  7d Change (%)    Volume 24h  Circulating Supply  \n",
       "0           1.274604       2.057478  4.785771e+10        1.991649e+07  \n",
       "1           0.028446       1.749863  3.626620e+10        1.207052e+08  \n",
       "2          -0.060390      -1.052339  5.004582e+09        5.948226e+10  \n",
       "3          -0.011607       0.010898  1.067136e+11        1.685405e+11  \n",
       "4           0.140122      -0.626665  1.843423e+09        1.391876e+08  \n",
       "...              ...            ...           ...                 ...  \n",
       "1195        1.780715      -1.327153  2.705730e+06        2.133053e+08  \n",
       "1196       -1.108735      -3.054311  3.808889e+06        6.999607e+06  \n",
       "1197        0.350928      -8.464239  1.126987e+06        8.998492e+08  \n",
       "1198       -8.887201      -4.276849  2.064680e+04        3.707727e+08  \n",
       "1199       -0.072237      -1.474302  3.411759e+06        4.374880e+07  \n",
       "\n",
       "[1200 rows x 8 columns]"
      ]
     },
     "execution_count": 9,
     "metadata": {},
     "output_type": "execute_result"
    }
   ],
   "source": [
    "path"
   ]
  },
  {
   "cell_type": "code",
   "execution_count": 10,
   "id": "ced7996f-0cee-4249-a6f3-162b68300481",
   "metadata": {},
   "outputs": [],
   "source": [
    "df = pd.DataFrame(path)"
   ]
  },
  {
   "cell_type": "code",
   "execution_count": 11,
   "id": "ff9b69e8-1edb-4bd8-9884-bde8cd2c07f2",
   "metadata": {},
   "outputs": [
    {
     "data": {
      "text/html": [
       "<div>\n",
       "<style scoped>\n",
       "    .dataframe tbody tr th:only-of-type {\n",
       "        vertical-align: middle;\n",
       "    }\n",
       "\n",
       "    .dataframe tbody tr th {\n",
       "        vertical-align: top;\n",
       "    }\n",
       "\n",
       "    .dataframe thead th {\n",
       "        text-align: right;\n",
       "    }\n",
       "</style>\n",
       "<table border=\"1\" class=\"dataframe\">\n",
       "  <thead>\n",
       "    <tr style=\"text-align: right;\">\n",
       "      <th></th>\n",
       "      <th>Name</th>\n",
       "      <th>Symbol</th>\n",
       "      <th>Price</th>\n",
       "      <th>Market Cap</th>\n",
       "      <th>24h Change (%)</th>\n",
       "      <th>7d Change (%)</th>\n",
       "      <th>Volume 24h</th>\n",
       "      <th>Circulating Supply</th>\n",
       "    </tr>\n",
       "  </thead>\n",
       "  <tbody>\n",
       "    <tr>\n",
       "      <th>0</th>\n",
       "      <td>Bitcoin</td>\n",
       "      <td>BTC</td>\n",
       "      <td>112342.690531</td>\n",
       "      <td>2.237472e+12</td>\n",
       "      <td>1.274604</td>\n",
       "      <td>2.057478</td>\n",
       "      <td>4.785771e+10</td>\n",
       "      <td>1.991649e+07</td>\n",
       "    </tr>\n",
       "    <tr>\n",
       "      <th>1</th>\n",
       "      <td>Ethereum</td>\n",
       "      <td>ETH</td>\n",
       "      <td>4418.606321</td>\n",
       "      <td>5.333488e+11</td>\n",
       "      <td>0.028446</td>\n",
       "      <td>1.749863</td>\n",
       "      <td>3.626620e+10</td>\n",
       "      <td>1.207052e+08</td>\n",
       "    </tr>\n",
       "    <tr>\n",
       "      <th>2</th>\n",
       "      <td>XRP</td>\n",
       "      <td>XRP</td>\n",
       "      <td>2.845007</td>\n",
       "      <td>1.692274e+11</td>\n",
       "      <td>-0.060390</td>\n",
       "      <td>-1.052339</td>\n",
       "      <td>5.004582e+09</td>\n",
       "      <td>5.948226e+10</td>\n",
       "    </tr>\n",
       "    <tr>\n",
       "      <th>3</th>\n",
       "      <td>Tether USDt</td>\n",
       "      <td>USDT</td>\n",
       "      <td>1.000161</td>\n",
       "      <td>1.685677e+11</td>\n",
       "      <td>-0.011607</td>\n",
       "      <td>0.010898</td>\n",
       "      <td>1.067136e+11</td>\n",
       "      <td>1.685405e+11</td>\n",
       "    </tr>\n",
       "    <tr>\n",
       "      <th>4</th>\n",
       "      <td>BNB</td>\n",
       "      <td>BNB</td>\n",
       "      <td>850.259470</td>\n",
       "      <td>1.183456e+11</td>\n",
       "      <td>0.140122</td>\n",
       "      <td>-0.626665</td>\n",
       "      <td>1.843423e+09</td>\n",
       "      <td>1.391876e+08</td>\n",
       "    </tr>\n",
       "    <tr>\n",
       "      <th>...</th>\n",
       "      <td>...</td>\n",
       "      <td>...</td>\n",
       "      <td>...</td>\n",
       "      <td>...</td>\n",
       "      <td>...</td>\n",
       "      <td>...</td>\n",
       "      <td>...</td>\n",
       "      <td>...</td>\n",
       "    </tr>\n",
       "    <tr>\n",
       "      <th>1195</th>\n",
       "      <td>Skate</td>\n",
       "      <td>SKATE</td>\n",
       "      <td>0.041013</td>\n",
       "      <td>8.748253e+06</td>\n",
       "      <td>1.780715</td>\n",
       "      <td>-1.327153</td>\n",
       "      <td>2.705730e+06</td>\n",
       "      <td>2.133053e+08</td>\n",
       "    </tr>\n",
       "    <tr>\n",
       "      <th>1196</th>\n",
       "      <td>Atletico De Madrid Fan Token</td>\n",
       "      <td>ATM</td>\n",
       "      <td>1.249740</td>\n",
       "      <td>8.747688e+06</td>\n",
       "      <td>-1.108735</td>\n",
       "      <td>-3.054311</td>\n",
       "      <td>3.808889e+06</td>\n",
       "      <td>6.999607e+06</td>\n",
       "    </tr>\n",
       "    <tr>\n",
       "      <th>1197</th>\n",
       "      <td>SIGMA</td>\n",
       "      <td>SIGMA</td>\n",
       "      <td>0.009716</td>\n",
       "      <td>8.743341e+06</td>\n",
       "      <td>0.350928</td>\n",
       "      <td>-8.464239</td>\n",
       "      <td>1.126987e+06</td>\n",
       "      <td>8.998492e+08</td>\n",
       "    </tr>\n",
       "    <tr>\n",
       "      <th>1198</th>\n",
       "      <td>Dragonchain</td>\n",
       "      <td>DRGN</td>\n",
       "      <td>0.023507</td>\n",
       "      <td>8.715613e+06</td>\n",
       "      <td>-8.887201</td>\n",
       "      <td>-4.276849</td>\n",
       "      <td>2.064680e+04</td>\n",
       "      <td>3.707727e+08</td>\n",
       "    </tr>\n",
       "    <tr>\n",
       "      <th>1199</th>\n",
       "      <td>SwissCheese</td>\n",
       "      <td>SWCH</td>\n",
       "      <td>0.197706</td>\n",
       "      <td>8.649420e+06</td>\n",
       "      <td>-0.072237</td>\n",
       "      <td>-1.474302</td>\n",
       "      <td>3.411759e+06</td>\n",
       "      <td>4.374880e+07</td>\n",
       "    </tr>\n",
       "  </tbody>\n",
       "</table>\n",
       "<p>1200 rows × 8 columns</p>\n",
       "</div>"
      ],
      "text/plain": [
       "                              Name Symbol          Price    Market Cap  \\\n",
       "0                          Bitcoin    BTC  112342.690531  2.237472e+12   \n",
       "1                         Ethereum    ETH    4418.606321  5.333488e+11   \n",
       "2                              XRP    XRP       2.845007  1.692274e+11   \n",
       "3                      Tether USDt   USDT       1.000161  1.685677e+11   \n",
       "4                              BNB    BNB     850.259470  1.183456e+11   \n",
       "...                            ...    ...            ...           ...   \n",
       "1195                         Skate  SKATE       0.041013  8.748253e+06   \n",
       "1196  Atletico De Madrid Fan Token    ATM       1.249740  8.747688e+06   \n",
       "1197                         SIGMA  SIGMA       0.009716  8.743341e+06   \n",
       "1198                   Dragonchain   DRGN       0.023507  8.715613e+06   \n",
       "1199                   SwissCheese   SWCH       0.197706  8.649420e+06   \n",
       "\n",
       "      24h Change (%)  7d Change (%)    Volume 24h  Circulating Supply  \n",
       "0           1.274604       2.057478  4.785771e+10        1.991649e+07  \n",
       "1           0.028446       1.749863  3.626620e+10        1.207052e+08  \n",
       "2          -0.060390      -1.052339  5.004582e+09        5.948226e+10  \n",
       "3          -0.011607       0.010898  1.067136e+11        1.685405e+11  \n",
       "4           0.140122      -0.626665  1.843423e+09        1.391876e+08  \n",
       "...              ...            ...           ...                 ...  \n",
       "1195        1.780715      -1.327153  2.705730e+06        2.133053e+08  \n",
       "1196       -1.108735      -3.054311  3.808889e+06        6.999607e+06  \n",
       "1197        0.350928      -8.464239  1.126987e+06        8.998492e+08  \n",
       "1198       -8.887201      -4.276849  2.064680e+04        3.707727e+08  \n",
       "1199       -0.072237      -1.474302  3.411759e+06        4.374880e+07  \n",
       "\n",
       "[1200 rows x 8 columns]"
      ]
     },
     "execution_count": 11,
     "metadata": {},
     "output_type": "execute_result"
    }
   ],
   "source": [
    "df"
   ]
  },
  {
   "cell_type": "code",
   "execution_count": 12,
   "id": "3be128f4-1dad-4e75-8055-ce36e25544ec",
   "metadata": {},
   "outputs": [
    {
     "name": "stdout",
     "output_type": "stream",
     "text": [
      "<class 'pandas.core.frame.DataFrame'>\n",
      "RangeIndex: 1200 entries, 0 to 1199\n",
      "Data columns (total 8 columns):\n",
      " #   Column              Non-Null Count  Dtype  \n",
      "---  ------              --------------  -----  \n",
      " 0   Name                1200 non-null   object \n",
      " 1   Symbol              1200 non-null   object \n",
      " 2   Price               1200 non-null   float64\n",
      " 3   Market Cap          1200 non-null   float64\n",
      " 4   24h Change (%)      1200 non-null   float64\n",
      " 5   7d Change (%)       1200 non-null   float64\n",
      " 6   Volume 24h          1200 non-null   float64\n",
      " 7   Circulating Supply  1200 non-null   float64\n",
      "dtypes: float64(6), object(2)\n",
      "memory usage: 75.1+ KB\n"
     ]
    }
   ],
   "source": [
    "df.info()"
   ]
  },
  {
   "cell_type": "code",
   "execution_count": 13,
   "id": "7e7f74fd-2f10-4101-b719-210cb8ff4548",
   "metadata": {},
   "outputs": [
    {
     "data": {
      "text/plain": [
       "(1200, 8)"
      ]
     },
     "execution_count": 13,
     "metadata": {},
     "output_type": "execute_result"
    }
   ],
   "source": [
    "df.shape"
   ]
  },
  {
   "cell_type": "code",
   "execution_count": 7,
   "id": "b6c27690-e72f-433d-9c2f-efcb969e46ea",
   "metadata": {},
   "outputs": [
    {
     "data": {
      "text/html": [
       "<div>\n",
       "<style scoped>\n",
       "    .dataframe tbody tr th:only-of-type {\n",
       "        vertical-align: middle;\n",
       "    }\n",
       "\n",
       "    .dataframe tbody tr th {\n",
       "        vertical-align: top;\n",
       "    }\n",
       "\n",
       "    .dataframe thead th {\n",
       "        text-align: right;\n",
       "    }\n",
       "</style>\n",
       "<table border=\"1\" class=\"dataframe\">\n",
       "  <thead>\n",
       "    <tr style=\"text-align: right;\">\n",
       "      <th></th>\n",
       "      <th>Name</th>\n",
       "      <th>Symbol</th>\n",
       "      <th>Price</th>\n",
       "      <th>Market Cap</th>\n",
       "      <th>24h Change (%)</th>\n",
       "      <th>7d Change (%)</th>\n",
       "      <th>Volume 24h</th>\n",
       "      <th>Circulating Supply</th>\n",
       "    </tr>\n",
       "  </thead>\n",
       "  <tbody>\n",
       "    <tr>\n",
       "      <th>0</th>\n",
       "      <td>Bitcoin</td>\n",
       "      <td>BTC</td>\n",
       "      <td>112342.690531</td>\n",
       "      <td>2.237472e+12</td>\n",
       "      <td>1.274604</td>\n",
       "      <td>2.057478</td>\n",
       "      <td>4.785771e+10</td>\n",
       "      <td>1.991649e+07</td>\n",
       "    </tr>\n",
       "    <tr>\n",
       "      <th>1</th>\n",
       "      <td>Ethereum</td>\n",
       "      <td>ETH</td>\n",
       "      <td>4418.606321</td>\n",
       "      <td>5.333488e+11</td>\n",
       "      <td>0.028446</td>\n",
       "      <td>1.749863</td>\n",
       "      <td>3.626620e+10</td>\n",
       "      <td>1.207052e+08</td>\n",
       "    </tr>\n",
       "    <tr>\n",
       "      <th>2</th>\n",
       "      <td>XRP</td>\n",
       "      <td>XRP</td>\n",
       "      <td>2.845007</td>\n",
       "      <td>1.692274e+11</td>\n",
       "      <td>-0.060390</td>\n",
       "      <td>-1.052339</td>\n",
       "      <td>5.004582e+09</td>\n",
       "      <td>5.948226e+10</td>\n",
       "    </tr>\n",
       "    <tr>\n",
       "      <th>3</th>\n",
       "      <td>Tether USDt</td>\n",
       "      <td>USDT</td>\n",
       "      <td>1.000161</td>\n",
       "      <td>1.685677e+11</td>\n",
       "      <td>-0.011607</td>\n",
       "      <td>0.010898</td>\n",
       "      <td>1.067136e+11</td>\n",
       "      <td>1.685405e+11</td>\n",
       "    </tr>\n",
       "    <tr>\n",
       "      <th>4</th>\n",
       "      <td>BNB</td>\n",
       "      <td>BNB</td>\n",
       "      <td>850.259470</td>\n",
       "      <td>1.183456e+11</td>\n",
       "      <td>0.140122</td>\n",
       "      <td>-0.626665</td>\n",
       "      <td>1.843423e+09</td>\n",
       "      <td>1.391876e+08</td>\n",
       "    </tr>\n",
       "    <tr>\n",
       "      <th>5</th>\n",
       "      <td>Solana</td>\n",
       "      <td>SOL</td>\n",
       "      <td>206.895450</td>\n",
       "      <td>1.119634e+11</td>\n",
       "      <td>-0.395267</td>\n",
       "      <td>-0.650244</td>\n",
       "      <td>5.913079e+09</td>\n",
       "      <td>5.411591e+08</td>\n",
       "    </tr>\n",
       "    <tr>\n",
       "      <th>6</th>\n",
       "      <td>USDC</td>\n",
       "      <td>USDC</td>\n",
       "      <td>0.999903</td>\n",
       "      <td>7.256917e+10</td>\n",
       "      <td>-0.006009</td>\n",
       "      <td>-0.001801</td>\n",
       "      <td>1.334683e+10</td>\n",
       "      <td>7.257622e+10</td>\n",
       "    </tr>\n",
       "    <tr>\n",
       "      <th>7</th>\n",
       "      <td>Dogecoin</td>\n",
       "      <td>DOGE</td>\n",
       "      <td>0.216690</td>\n",
       "      <td>3.267989e+10</td>\n",
       "      <td>0.236567</td>\n",
       "      <td>0.771902</td>\n",
       "      <td>1.594433e+09</td>\n",
       "      <td>1.508140e+11</td>\n",
       "    </tr>\n",
       "    <tr>\n",
       "      <th>8</th>\n",
       "      <td>TRON</td>\n",
       "      <td>TRX</td>\n",
       "      <td>0.337177</td>\n",
       "      <td>3.191753e+10</td>\n",
       "      <td>-0.567670</td>\n",
       "      <td>-0.326885</td>\n",
       "      <td>8.783541e+08</td>\n",
       "      <td>9.466101e+10</td>\n",
       "    </tr>\n",
       "    <tr>\n",
       "      <th>9</th>\n",
       "      <td>Cardano</td>\n",
       "      <td>ADA</td>\n",
       "      <td>0.829808</td>\n",
       "      <td>2.965810e+10</td>\n",
       "      <td>1.149806</td>\n",
       "      <td>0.646927</td>\n",
       "      <td>8.598985e+08</td>\n",
       "      <td>3.574093e+10</td>\n",
       "    </tr>\n",
       "  </tbody>\n",
       "</table>\n",
       "</div>"
      ],
      "text/plain": [
       "          Name Symbol          Price    Market Cap  24h Change (%)  \\\n",
       "0      Bitcoin    BTC  112342.690531  2.237472e+12        1.274604   \n",
       "1     Ethereum    ETH    4418.606321  5.333488e+11        0.028446   \n",
       "2          XRP    XRP       2.845007  1.692274e+11       -0.060390   \n",
       "3  Tether USDt   USDT       1.000161  1.685677e+11       -0.011607   \n",
       "4          BNB    BNB     850.259470  1.183456e+11        0.140122   \n",
       "5       Solana    SOL     206.895450  1.119634e+11       -0.395267   \n",
       "6         USDC   USDC       0.999903  7.256917e+10       -0.006009   \n",
       "7     Dogecoin   DOGE       0.216690  3.267989e+10        0.236567   \n",
       "8         TRON    TRX       0.337177  3.191753e+10       -0.567670   \n",
       "9      Cardano    ADA       0.829808  2.965810e+10        1.149806   \n",
       "\n",
       "   7d Change (%)    Volume 24h  Circulating Supply  \n",
       "0       2.057478  4.785771e+10        1.991649e+07  \n",
       "1       1.749863  3.626620e+10        1.207052e+08  \n",
       "2      -1.052339  5.004582e+09        5.948226e+10  \n",
       "3       0.010898  1.067136e+11        1.685405e+11  \n",
       "4      -0.626665  1.843423e+09        1.391876e+08  \n",
       "5      -0.650244  5.913079e+09        5.411591e+08  \n",
       "6      -0.001801  1.334683e+10        7.257622e+10  \n",
       "7       0.771902  1.594433e+09        1.508140e+11  \n",
       "8      -0.326885  8.783541e+08        9.466101e+10  \n",
       "9       0.646927  8.598985e+08        3.574093e+10  "
      ]
     },
     "execution_count": 7,
     "metadata": {},
     "output_type": "execute_result"
    }
   ],
   "source": [
    "df.head(10)"
   ]
  },
  {
   "cell_type": "code",
   "execution_count": 8,
   "id": "45a30103-0ce7-4a68-8655-c4b3d0975c24",
   "metadata": {},
   "outputs": [
    {
     "data": {
      "text/html": [
       "<div>\n",
       "<style scoped>\n",
       "    .dataframe tbody tr th:only-of-type {\n",
       "        vertical-align: middle;\n",
       "    }\n",
       "\n",
       "    .dataframe tbody tr th {\n",
       "        vertical-align: top;\n",
       "    }\n",
       "\n",
       "    .dataframe thead th {\n",
       "        text-align: right;\n",
       "    }\n",
       "</style>\n",
       "<table border=\"1\" class=\"dataframe\">\n",
       "  <thead>\n",
       "    <tr style=\"text-align: right;\">\n",
       "      <th></th>\n",
       "      <th>Name</th>\n",
       "      <th>Symbol</th>\n",
       "      <th>Price</th>\n",
       "      <th>Market Cap</th>\n",
       "      <th>24h Change (%)</th>\n",
       "      <th>7d Change (%)</th>\n",
       "      <th>Volume 24h</th>\n",
       "      <th>Circulating Supply</th>\n",
       "    </tr>\n",
       "  </thead>\n",
       "  <tbody>\n",
       "    <tr>\n",
       "      <th>1195</th>\n",
       "      <td>Skate</td>\n",
       "      <td>SKATE</td>\n",
       "      <td>0.041013</td>\n",
       "      <td>8.748253e+06</td>\n",
       "      <td>1.780715</td>\n",
       "      <td>-1.327153</td>\n",
       "      <td>2.705730e+06</td>\n",
       "      <td>2.133053e+08</td>\n",
       "    </tr>\n",
       "    <tr>\n",
       "      <th>1196</th>\n",
       "      <td>Atletico De Madrid Fan Token</td>\n",
       "      <td>ATM</td>\n",
       "      <td>1.249740</td>\n",
       "      <td>8.747688e+06</td>\n",
       "      <td>-1.108735</td>\n",
       "      <td>-3.054311</td>\n",
       "      <td>3.808889e+06</td>\n",
       "      <td>6.999607e+06</td>\n",
       "    </tr>\n",
       "    <tr>\n",
       "      <th>1197</th>\n",
       "      <td>SIGMA</td>\n",
       "      <td>SIGMA</td>\n",
       "      <td>0.009716</td>\n",
       "      <td>8.743341e+06</td>\n",
       "      <td>0.350928</td>\n",
       "      <td>-8.464239</td>\n",
       "      <td>1.126987e+06</td>\n",
       "      <td>8.998492e+08</td>\n",
       "    </tr>\n",
       "    <tr>\n",
       "      <th>1198</th>\n",
       "      <td>Dragonchain</td>\n",
       "      <td>DRGN</td>\n",
       "      <td>0.023507</td>\n",
       "      <td>8.715613e+06</td>\n",
       "      <td>-8.887201</td>\n",
       "      <td>-4.276849</td>\n",
       "      <td>2.064680e+04</td>\n",
       "      <td>3.707727e+08</td>\n",
       "    </tr>\n",
       "    <tr>\n",
       "      <th>1199</th>\n",
       "      <td>SwissCheese</td>\n",
       "      <td>SWCH</td>\n",
       "      <td>0.197706</td>\n",
       "      <td>8.649420e+06</td>\n",
       "      <td>-0.072237</td>\n",
       "      <td>-1.474302</td>\n",
       "      <td>3.411759e+06</td>\n",
       "      <td>4.374880e+07</td>\n",
       "    </tr>\n",
       "  </tbody>\n",
       "</table>\n",
       "</div>"
      ],
      "text/plain": [
       "                              Name Symbol     Price    Market Cap  \\\n",
       "1195                         Skate  SKATE  0.041013  8.748253e+06   \n",
       "1196  Atletico De Madrid Fan Token    ATM  1.249740  8.747688e+06   \n",
       "1197                         SIGMA  SIGMA  0.009716  8.743341e+06   \n",
       "1198                   Dragonchain   DRGN  0.023507  8.715613e+06   \n",
       "1199                   SwissCheese   SWCH  0.197706  8.649420e+06   \n",
       "\n",
       "      24h Change (%)  7d Change (%)    Volume 24h  Circulating Supply  \n",
       "1195        1.780715      -1.327153  2.705730e+06        2.133053e+08  \n",
       "1196       -1.108735      -3.054311  3.808889e+06        6.999607e+06  \n",
       "1197        0.350928      -8.464239  1.126987e+06        8.998492e+08  \n",
       "1198       -8.887201      -4.276849  2.064680e+04        3.707727e+08  \n",
       "1199       -0.072237      -1.474302  3.411759e+06        4.374880e+07  "
      ]
     },
     "execution_count": 8,
     "metadata": {},
     "output_type": "execute_result"
    }
   ],
   "source": [
    "df.tail()"
   ]
  },
  {
   "cell_type": "code",
   "execution_count": 9,
   "id": "f704afa2-742f-427a-bab3-519993508bf6",
   "metadata": {},
   "outputs": [
    {
     "data": {
      "text/html": [
       "<div>\n",
       "<style scoped>\n",
       "    .dataframe tbody tr th:only-of-type {\n",
       "        vertical-align: middle;\n",
       "    }\n",
       "\n",
       "    .dataframe tbody tr th {\n",
       "        vertical-align: top;\n",
       "    }\n",
       "\n",
       "    .dataframe thead th {\n",
       "        text-align: right;\n",
       "    }\n",
       "</style>\n",
       "<table border=\"1\" class=\"dataframe\">\n",
       "  <thead>\n",
       "    <tr style=\"text-align: right;\">\n",
       "      <th></th>\n",
       "      <th>Name</th>\n",
       "      <th>Symbol</th>\n",
       "      <th>Price</th>\n",
       "      <th>Market Cap</th>\n",
       "      <th>24h Change (%)</th>\n",
       "      <th>7d Change (%)</th>\n",
       "      <th>Volume 24h</th>\n",
       "      <th>Circulating Supply</th>\n",
       "    </tr>\n",
       "  </thead>\n",
       "  <tbody>\n",
       "    <tr>\n",
       "      <th>count</th>\n",
       "      <td>1200</td>\n",
       "      <td>1200</td>\n",
       "      <td>1.200000e+03</td>\n",
       "      <td>1.200000e+03</td>\n",
       "      <td>1200.000000</td>\n",
       "      <td>1200.000000</td>\n",
       "      <td>1.200000e+03</td>\n",
       "      <td>1.200000e+03</td>\n",
       "    </tr>\n",
       "    <tr>\n",
       "      <th>unique</th>\n",
       "      <td>1198</td>\n",
       "      <td>1177</td>\n",
       "      <td>NaN</td>\n",
       "      <td>NaN</td>\n",
       "      <td>NaN</td>\n",
       "      <td>NaN</td>\n",
       "      <td>NaN</td>\n",
       "      <td>NaN</td>\n",
       "    </tr>\n",
       "    <tr>\n",
       "      <th>top</th>\n",
       "      <td>Yala</td>\n",
       "      <td>RZR</td>\n",
       "      <td>NaN</td>\n",
       "      <td>NaN</td>\n",
       "      <td>NaN</td>\n",
       "      <td>NaN</td>\n",
       "      <td>NaN</td>\n",
       "      <td>NaN</td>\n",
       "    </tr>\n",
       "    <tr>\n",
       "      <th>freq</th>\n",
       "      <td>2</td>\n",
       "      <td>2</td>\n",
       "      <td>NaN</td>\n",
       "      <td>NaN</td>\n",
       "      <td>NaN</td>\n",
       "      <td>NaN</td>\n",
       "      <td>NaN</td>\n",
       "      <td>NaN</td>\n",
       "    </tr>\n",
       "    <tr>\n",
       "      <th>mean</th>\n",
       "      <td>NaN</td>\n",
       "      <td>NaN</td>\n",
       "      <td>1.205056e+02</td>\n",
       "      <td>3.248246e+09</td>\n",
       "      <td>0.985821</td>\n",
       "      <td>-0.171486</td>\n",
       "      <td>2.121037e+08</td>\n",
       "      <td>1.094171e+19</td>\n",
       "    </tr>\n",
       "    <tr>\n",
       "      <th>std</th>\n",
       "      <td>NaN</td>\n",
       "      <td>NaN</td>\n",
       "      <td>3.257632e+03</td>\n",
       "      <td>6.693566e+10</td>\n",
       "      <td>7.507142</td>\n",
       "      <td>20.390546</td>\n",
       "      <td>3.564396e+09</td>\n",
       "      <td>3.790187e+20</td>\n",
       "    </tr>\n",
       "    <tr>\n",
       "      <th>min</th>\n",
       "      <td>NaN</td>\n",
       "      <td>NaN</td>\n",
       "      <td>8.899414e-16</td>\n",
       "      <td>8.649420e+06</td>\n",
       "      <td>-32.393679</td>\n",
       "      <td>-64.259518</td>\n",
       "      <td>0.000000e+00</td>\n",
       "      <td>1.246587e+04</td>\n",
       "    </tr>\n",
       "    <tr>\n",
       "      <th>25%</th>\n",
       "      <td>NaN</td>\n",
       "      <td>NaN</td>\n",
       "      <td>2.022414e-02</td>\n",
       "      <td>1.944309e+07</td>\n",
       "      <td>-0.775814</td>\n",
       "      <td>-5.802640</td>\n",
       "      <td>6.537531e+05</td>\n",
       "      <td>1.333552e+08</td>\n",
       "    </tr>\n",
       "    <tr>\n",
       "      <th>50%</th>\n",
       "      <td>NaN</td>\n",
       "      <td>NaN</td>\n",
       "      <td>9.963961e-02</td>\n",
       "      <td>4.524696e+07</td>\n",
       "      <td>0.310845</td>\n",
       "      <td>-1.878577</td>\n",
       "      <td>4.222485e+06</td>\n",
       "      <td>6.550915e+08</td>\n",
       "    </tr>\n",
       "    <tr>\n",
       "      <th>75%</th>\n",
       "      <td>NaN</td>\n",
       "      <td>NaN</td>\n",
       "      <td>6.019498e-01</td>\n",
       "      <td>1.295859e+08</td>\n",
       "      <td>1.651003</td>\n",
       "      <td>0.693361</td>\n",
       "      <td>1.357759e+07</td>\n",
       "      <td>2.100491e+09</td>\n",
       "    </tr>\n",
       "    <tr>\n",
       "      <th>max</th>\n",
       "      <td>NaN</td>\n",
       "      <td>NaN</td>\n",
       "      <td>1.123427e+05</td>\n",
       "      <td>2.237472e+12</td>\n",
       "      <td>146.200622</td>\n",
       "      <td>287.356901</td>\n",
       "      <td>1.067136e+11</td>\n",
       "      <td>1.312959e+22</td>\n",
       "    </tr>\n",
       "  </tbody>\n",
       "</table>\n",
       "</div>"
      ],
      "text/plain": [
       "        Name Symbol         Price    Market Cap  24h Change (%)  \\\n",
       "count   1200   1200  1.200000e+03  1.200000e+03     1200.000000   \n",
       "unique  1198   1177           NaN           NaN             NaN   \n",
       "top     Yala    RZR           NaN           NaN             NaN   \n",
       "freq       2      2           NaN           NaN             NaN   \n",
       "mean     NaN    NaN  1.205056e+02  3.248246e+09        0.985821   \n",
       "std      NaN    NaN  3.257632e+03  6.693566e+10        7.507142   \n",
       "min      NaN    NaN  8.899414e-16  8.649420e+06      -32.393679   \n",
       "25%      NaN    NaN  2.022414e-02  1.944309e+07       -0.775814   \n",
       "50%      NaN    NaN  9.963961e-02  4.524696e+07        0.310845   \n",
       "75%      NaN    NaN  6.019498e-01  1.295859e+08        1.651003   \n",
       "max      NaN    NaN  1.123427e+05  2.237472e+12      146.200622   \n",
       "\n",
       "        7d Change (%)    Volume 24h  Circulating Supply  \n",
       "count     1200.000000  1.200000e+03        1.200000e+03  \n",
       "unique            NaN           NaN                 NaN  \n",
       "top               NaN           NaN                 NaN  \n",
       "freq              NaN           NaN                 NaN  \n",
       "mean        -0.171486  2.121037e+08        1.094171e+19  \n",
       "std         20.390546  3.564396e+09        3.790187e+20  \n",
       "min        -64.259518  0.000000e+00        1.246587e+04  \n",
       "25%         -5.802640  6.537531e+05        1.333552e+08  \n",
       "50%         -1.878577  4.222485e+06        6.550915e+08  \n",
       "75%          0.693361  1.357759e+07        2.100491e+09  \n",
       "max        287.356901  1.067136e+11        1.312959e+22  "
      ]
     },
     "execution_count": 9,
     "metadata": {},
     "output_type": "execute_result"
    }
   ],
   "source": [
    "df.describe(include = \"all\")"
   ]
  },
  {
   "cell_type": "markdown",
   "id": "7436035f-2d4f-4fb4-b49a-8044ead93759",
   "metadata": {},
   "source": [
    "### In Pandas **`df.isnull().sum()`** is used to detect and count missing (null/NaN) values in each column of a Pandas DataFrame."
   ]
  },
  {
   "cell_type": "code",
   "execution_count": 10,
   "id": "323fc9ab-570d-4830-a2e8-7ac9fa26a3c1",
   "metadata": {},
   "outputs": [
    {
     "data": {
      "text/plain": [
       "Name                  0\n",
       "Symbol                0\n",
       "Price                 0\n",
       "Market Cap            0\n",
       "24h Change (%)        0\n",
       "7d Change (%)         0\n",
       "Volume 24h            0\n",
       "Circulating Supply    0\n",
       "dtype: int64"
      ]
     },
     "execution_count": 10,
     "metadata": {},
     "output_type": "execute_result"
    }
   ],
   "source": [
    "df.isnull().sum()"
   ]
  },
  {
   "cell_type": "code",
   "execution_count": 11,
   "id": "6f906fc3-f61a-4cc7-913a-dc7f9e108f8a",
   "metadata": {},
   "outputs": [
    {
     "data": {
      "text/plain": [
       "Name\n",
       "Yala             2\n",
       "Phoenix          2\n",
       "Bitcoin          1\n",
       "Alien Worlds     1\n",
       "Kleros           1\n",
       "                ..\n",
       "Bancor           1\n",
       "Apertum          1\n",
       "Stratis [New]    1\n",
       "Constellation    1\n",
       "SwissCheese      1\n",
       "Name: count, Length: 1198, dtype: int64"
      ]
     },
     "execution_count": 11,
     "metadata": {},
     "output_type": "execute_result"
    }
   ],
   "source": [
    "df[\"Name\"].value_counts()"
   ]
  },
  {
   "cell_type": "markdown",
   "id": "c27aca1d-2ce3-45ac-9f74-6027d3bfe5af",
   "metadata": {},
   "source": [
    "# Descriptive statistics"
   ]
  },
  {
   "cell_type": "markdown",
   "id": "cb6c7e8b-6e8d-4f0e-a008-bdd6d1988a8e",
   "metadata": {},
   "source": [
    "## Central Tendancy"
   ]
  },
  {
   "cell_type": "code",
   "execution_count": 40,
   "id": "a80b0b47-5d8b-4a93-a6e1-dd7e997f8a2f",
   "metadata": {},
   "outputs": [
    {
     "data": {
      "text/plain": [
       "120.5056"
      ]
     },
     "execution_count": 40,
     "metadata": {},
     "output_type": "execute_result"
    }
   ],
   "source": [
    "round(df[\"Price\"].mean(),4)"
   ]
  },
  {
   "cell_type": "code",
   "execution_count": 41,
   "id": "64d368a0-5ea5-4de8-b73d-4bd46d44c615",
   "metadata": {},
   "outputs": [
    {
     "data": {
      "text/plain": [
       "0.0996"
      ]
     },
     "execution_count": 41,
     "metadata": {},
     "output_type": "execute_result"
    }
   ],
   "source": [
    "round(df[\"Price\"].median(),4)"
   ]
  },
  {
   "cell_type": "code",
   "execution_count": null,
   "id": "58c639bb-653b-48d1-bd27-655d5ce5b4c5",
   "metadata": {},
   "outputs": [],
   "source": []
  },
  {
   "cell_type": "code",
   "execution_count": 14,
   "id": "900e6555-26ac-4384-88bb-9ab8d95b4db0",
   "metadata": {},
   "outputs": [
    {
     "data": {
      "text/plain": [
       "212103707.2834973"
      ]
     },
     "execution_count": 14,
     "metadata": {},
     "output_type": "execute_result"
    }
   ],
   "source": [
    "df[\"Volume 24h\"].mean()"
   ]
  },
  {
   "cell_type": "code",
   "execution_count": 15,
   "id": "8c9712ce-4622-4e90-96a1-83abd5f38ba8",
   "metadata": {},
   "outputs": [
    {
     "data": {
      "text/plain": [
       "4222485.30283311"
      ]
     },
     "execution_count": 15,
     "metadata": {},
     "output_type": "execute_result"
    }
   ],
   "source": [
    "df[\"Volume 24h\"].median()"
   ]
  },
  {
   "cell_type": "code",
   "execution_count": null,
   "id": "57e29f2e-e61e-4b62-ae52-3259fcce9299",
   "metadata": {},
   "outputs": [],
   "source": []
  },
  {
   "cell_type": "code",
   "execution_count": 42,
   "id": "cff5081d-2330-4fd0-b1d1-6bec3974530a",
   "metadata": {},
   "outputs": [
    {
     "data": {
      "text/plain": [
       "3248246410.1696"
      ]
     },
     "execution_count": 42,
     "metadata": {},
     "output_type": "execute_result"
    }
   ],
   "source": [
    "round(df[\"Market Cap\"].mean(),4)"
   ]
  },
  {
   "cell_type": "code",
   "execution_count": 43,
   "id": "5746b140-8c0f-4bde-a028-88e534bc2698",
   "metadata": {},
   "outputs": [
    {
     "data": {
      "text/plain": [
       "45246960.7794"
      ]
     },
     "execution_count": 43,
     "metadata": {},
     "output_type": "execute_result"
    }
   ],
   "source": [
    "round(df[\"Market Cap\"].median(),4)"
   ]
  },
  {
   "cell_type": "markdown",
   "id": "b35c9a37-0e8a-4888-bb51-c486ed73149e",
   "metadata": {},
   "source": [
    "# Standard Deviation of Price"
   ]
  },
  {
   "cell_type": "code",
   "execution_count": 44,
   "id": "5223d1d7-1a50-4d3c-938d-4369e062cff0",
   "metadata": {},
   "outputs": [
    {
     "data": {
      "text/plain": [
       "3257.6319"
      ]
     },
     "execution_count": 44,
     "metadata": {},
     "output_type": "execute_result"
    }
   ],
   "source": [
    "round(df[\"Price\"].std(),4)"
   ]
  },
  {
   "cell_type": "markdown",
   "id": "a0f56584-1da7-4429-99cf-0db2394e60ad",
   "metadata": {},
   "source": [
    "# Variance of Price"
   ]
  },
  {
   "cell_type": "code",
   "execution_count": 45,
   "id": "cec8c53e-8ca1-4eb5-acd7-1e619c640a92",
   "metadata": {},
   "outputs": [
    {
     "data": {
      "text/plain": [
       "10612165.8906"
      ]
     },
     "execution_count": 45,
     "metadata": {},
     "output_type": "execute_result"
    }
   ],
   "source": [
    "round(df[\"Price\"].var(),4)"
   ]
  },
  {
   "cell_type": "markdown",
   "id": "f16ecee7-48c8-4139-8325-54c100e7e36e",
   "metadata": {},
   "source": [
    "# Range (Max – Min)\n",
    "- Simplest measure of spread.\n",
    "\n",
    "- Sensitive to outliers."
   ]
  },
  {
   "cell_type": "code",
   "execution_count": 20,
   "id": "2b29b565-e8b5-43df-81f0-cc1822881e95",
   "metadata": {},
   "outputs": [
    {
     "data": {
      "text/plain": [
       "112342.6905307702"
      ]
     },
     "execution_count": 20,
     "metadata": {},
     "output_type": "execute_result"
    }
   ],
   "source": [
    "round(df[\"Price\"].max(),2)"
   ]
  },
  {
   "cell_type": "code",
   "execution_count": 48,
   "id": "ac31be44-dc1f-4a79-a3bb-66ee40475f08",
   "metadata": {},
   "outputs": [
    {
     "data": {
      "text/plain": [
       "8.89941401e-16"
      ]
     },
     "execution_count": 48,
     "metadata": {},
     "output_type": "execute_result"
    }
   ],
   "source": [
    "df[\"Price\"].min()"
   ]
  },
  {
   "cell_type": "code",
   "execution_count": 22,
   "id": "8b06dff2-bd65-42b4-aae3-ca5fc7ff0fde",
   "metadata": {},
   "outputs": [
    {
     "data": {
      "text/plain": [
       "112342.6905307702"
      ]
     },
     "execution_count": 22,
     "metadata": {},
     "output_type": "execute_result"
    }
   ],
   "source": [
    "df[\"Price\"].max() - df[\"Price\"].min()"
   ]
  },
  {
   "cell_type": "markdown",
   "id": "d474f591-0cb1-4212-bc63-f1a300e5a44e",
   "metadata": {},
   "source": [
    "# Quartiles (Q1, Q2, Q3)\n",
    "\n",
    "- Split data into 4 equal parts.\n",
    "\n",
    "- Q1 = 25th percentile, Q2 = Median, Q3 = 75th percentile."
   ]
  },
  {
   "cell_type": "code",
   "execution_count": 23,
   "id": "0b285bc7-aea0-4c28-81c6-38799cb36620",
   "metadata": {},
   "outputs": [
    {
     "data": {
      "text/plain": [
       "0.25    0.020224\n",
       "0.50    0.099640\n",
       "0.75    0.601950\n",
       "Name: Price, dtype: float64"
      ]
     },
     "execution_count": 23,
     "metadata": {},
     "output_type": "execute_result"
    }
   ],
   "source": [
    "df[\"Price\"].quantile([0.25, 0.5, 0.75])"
   ]
  },
  {
   "cell_type": "code",
   "execution_count": null,
   "id": "c6bf3f50-2141-422b-8153-b48c09c35518",
   "metadata": {},
   "outputs": [],
   "source": []
  },
  {
   "cell_type": "markdown",
   "id": "7a374a1d-e158-453a-a783-dbb09049e348",
   "metadata": {},
   "source": [
    "# Interquartile Range (IQR)"
   ]
  },
  {
   "cell_type": "markdown",
   "id": "cde0b679-cd67-4f19-9081-2c76f645fce0",
   "metadata": {},
   "source": [
    " Interquartile Range (IQR)\n",
    "\n",
    "- Spread of the middle 50% of data.\n",
    "\n",
    "- Less sensitive to outliers.\n"
   ]
  },
  {
   "cell_type": "code",
   "execution_count": 24,
   "id": "8f9eadd3-2dda-40a6-86bb-d9838a7c2e62",
   "metadata": {},
   "outputs": [
    {
     "data": {
      "text/plain": [
       "0.5817256375363037"
      ]
     },
     "execution_count": 24,
     "metadata": {},
     "output_type": "execute_result"
    }
   ],
   "source": [
    "Q1 = df[\"Price\"].quantile(0.25)\n",
    "Q3 = df[\"Price\"].quantile(0.75)\n",
    "IQR = Q3 - Q1\n",
    "IQR"
   ]
  },
  {
   "cell_type": "code",
   "execution_count": null,
   "id": "1842ece3-ba06-4b25-9c81-4ca0135f46c7",
   "metadata": {},
   "outputs": [],
   "source": []
  },
  {
   "cell_type": "markdown",
   "id": "043bea91-9256-44da-9d5e-6c6581549af2",
   "metadata": {},
   "source": [
    "1. Skewness\n",
    "\n",
    "- Measures asymmetry of the distribution.\n",
    "\n",
    "- Skewness > 0 → right-skewed (long right tail, e.g., most cryptos have low prices but a few have very high).\n",
    "\n",
    "- Skewness < 0 → left-skewed (long left tail).\n",
    "\n",
    "- Skewness ≈ 0 → symmetric like normal distribution."
   ]
  },
  {
   "cell_type": "code",
   "execution_count": 25,
   "id": "3a6a5a3e-b343-4f8d-89b7-453ed72cc0f8",
   "metadata": {},
   "outputs": [
    {
     "data": {
      "text/plain": [
       "34.16597648148972"
      ]
     },
     "execution_count": 25,
     "metadata": {},
     "output_type": "execute_result"
    }
   ],
   "source": [
    "df[\"Price\"].skew()"
   ]
  },
  {
   "cell_type": "code",
   "execution_count": 26,
   "id": "63c91685-ff73-4179-8ccc-5deed28e829f",
   "metadata": {},
   "outputs": [
    {
     "data": {
      "text/plain": [
       "31.517095148805716"
      ]
     },
     "execution_count": 26,
     "metadata": {},
     "output_type": "execute_result"
    }
   ],
   "source": [
    "df[\"Market Cap\"].skew()"
   ]
  },
  {
   "cell_type": "code",
   "execution_count": null,
   "id": "c2639f74-0094-4578-94b7-acd078de89f4",
   "metadata": {},
   "outputs": [],
   "source": []
  },
  {
   "cell_type": "markdown",
   "id": "bf1e8155-e7f3-4485-aca5-e9c27caa5205",
   "metadata": {},
   "source": [
    "2. Kurtosis\n",
    "\n",
    "- Measures peakedness / tail heaviness.\n",
    "\n",
    "- Kurtosis > 3 → leptokurtic (heavy tails, more outliers than normal).\n",
    "\n",
    "- Kurtosis < 3 → platykurtic (light tails, flatter than normal).\n",
    "\n",
    "- Kurtosis ≈ 3 → mesokurtic (normal-like)."
   ]
  },
  {
   "cell_type": "code",
   "execution_count": 27,
   "id": "a30d50c4-0a79-48f1-b22d-028922c4ef64",
   "metadata": {},
   "outputs": [
    {
     "data": {
      "text/plain": [
       "1177.4971193263486"
      ]
     },
     "execution_count": 27,
     "metadata": {},
     "output_type": "execute_result"
    }
   ],
   "source": [
    "df[\"Price\"].kurt()"
   ]
  },
  {
   "cell_type": "code",
   "execution_count": 28,
   "id": "444dc336-cb1d-47f2-a507-6206cd8e8b01",
   "metadata": {},
   "outputs": [
    {
     "data": {
      "text/plain": [
       "1040.8390122811143"
      ]
     },
     "execution_count": 28,
     "metadata": {},
     "output_type": "execute_result"
    }
   ],
   "source": [
    "df[\"Market Cap\"].kurt()"
   ]
  },
  {
   "cell_type": "code",
   "execution_count": null,
   "id": "0aab62f0-fbc2-46aa-93c9-183809a8374f",
   "metadata": {},
   "outputs": [],
   "source": []
  },
  {
   "cell_type": "markdown",
   "id": "a4057472-3ebb-4663-af85-d1062445cb60",
   "metadata": {},
   "source": [
    "3. Histograms\n",
    "\n",
    "- Visual representation of distribution.\n",
    "\n",
    "- Useful to see skewness and spread."
   ]
  },
  {
   "cell_type": "code",
   "execution_count": 29,
   "id": "3966babd-1b37-4f0b-a223-49befb350a30",
   "metadata": {},
   "outputs": [
    {
     "data": {
      "image/png": "[encoded data removed]",
      "text/plain": [
       "<Figure size 1000x600 with 1 Axes>"
      ]
     },
     "metadata": {},
     "output_type": "display_data"
    }
   ],
   "source": [
    "import matplotlib.pyplot as plt\n",
    "import seaborn as sns\n",
    "\n",
    "# Histogram + KDE distribution plot for Price\n",
    "plt.figure(figsize=(10,6))\n",
    "sns.histplot(df[\"Price\"], bins=50, kde=True, color=\"blue\", edgecolor=\"black\")\n",
    "\n",
    "plt.title(\"Distribution of Cryptocurrency Prices\", fontsize=16)\n",
    "plt.xlabel(\"Price (USD)\", fontsize=14)\n",
    "plt.ylabel(\"Frequency\", fontsize=14)\n",
    "plt.grid(True, linestyle=\"--\", alpha=0.6)\n",
    "plt.show()\n"
   ]
  },
  {
   "cell_type": "code",
   "execution_count": 30,
   "id": "7c5d3717-8306-4f8e-84ff-480ba2c3695d",
   "metadata": {},
   "outputs": [
    {
     "data": {
      "image/png": "[encoded data removed]",
      "text/plain": [
       "<Figure size 1000x600 with 1 Axes>"
      ]
     },
     "metadata": {},
     "output_type": "display_data"
    }
   ],
   "source": [
    "import matplotlib.pyplot as plt\n",
    "import seaborn as sns\n",
    "\n",
    "# Histogram + KDE distribution plot for Price\n",
    "plt.figure(figsize=(10,6))\n",
    "sns.histplot(df[\"Market Cap\"], bins=50, kde=True, color=\"blue\", edgecolor=\"black\")\n",
    "\n",
    "plt.title(\"Distribution of Market Cap\", fontsize=16)\n",
    "plt.xlabel(\"Market Cap\", fontsize=14)\n",
    "plt.ylabel(\"Frequency\", fontsize=14)\n",
    "plt.grid(True, linestyle=\"--\", alpha=0.6)\n",
    "plt.show()\n"
   ]
  },
  {
   "cell_type": "markdown",
   "id": "39eaedb7-d71b-4736-b17d-e6a1c5dfaf5a",
   "metadata": {},
   "source": [
    "1. Top 10 Cryptocurrencies by Market Cap"
   ]
  },
  {
   "cell_type": "code",
   "execution_count": 31,
   "id": "7454751f-eba8-4517-9e21-461b3513e4c6",
   "metadata": {},
   "outputs": [
    {
     "name": "stdout",
     "output_type": "stream",
     "text": [
      "          Name    Market Cap\n",
      "0      Bitcoin  2.237472e+12\n",
      "1     Ethereum  5.333488e+11\n",
      "2          XRP  1.692274e+11\n",
      "3  Tether USDt  1.685677e+11\n",
      "4          BNB  1.183456e+11\n",
      "5       Solana  1.119634e+11\n",
      "6         USDC  7.256917e+10\n",
      "7     Dogecoin  3.267989e+10\n",
      "8         TRON  3.191753e+10\n",
      "9      Cardano  2.965810e+10\n"
     ]
    }
   ],
   "source": [
    "top10 = df.sort_values(by=\"Market Cap\", ascending=False).head(10)\n",
    "print(top10[[\"Name\", \"Market Cap\"]])\n"
   ]
  },
  {
   "cell_type": "markdown",
   "id": "1cc01a26-100f-4710-9ca1-3fc0700efdb6",
   "metadata": {},
   "source": [
    "# Proportion Analysis"
   ]
  },
  {
   "cell_type": "markdown",
   "id": "3a05498f-f8b0-4e96-b844-b7a62c14ed7b",
   "metadata": {},
   "source": [
    "1. Bitcoin & Ethereum % of Total Market Cap"
   ]
  },
  {
   "cell_type": "code",
   "execution_count": 32,
   "id": "fbfb2e1b-22ab-4f47-bb8f-3dfdabc8d279",
   "metadata": {},
   "outputs": [
    {
     "name": "stdout",
     "output_type": "stream",
     "text": [
      "Bitcoin Share : 57.40204233726614\n",
      "Ethereum Share : 13.682994391452723\n"
     ]
    }
   ],
   "source": [
    "total_cap = df[\"Market Cap\"].sum()\n",
    "\n",
    "btc_cap = df.loc[df[\"Name\"] == \"Bitcoin\", \"Market Cap\"].values[0]\n",
    "eth_cap = df.loc[df[\"Name\"] == \"Ethereum\", \"Market Cap\"].values[0]\n",
    "\n",
    "btc_share = (btc_cap / total_cap) * 100\n",
    "eth_share = (eth_cap / total_cap) * 100\n",
    "print(f\"Bitcoin Share : {btc_share}\") \n",
    "print(f\"Ethereum Share : {eth_share}\")"
   ]
  },
  {
   "cell_type": "markdown",
   "id": "b45723a4-a5bd-4b30-9c60-21f3dfa3953c",
   "metadata": {},
   "source": [
    "Bitcoin: 57%\n",
    "\n",
    "Ethereum: 13%\n",
    "\n",
    "Rest of market: 30%"
   ]
  },
  {
   "cell_type": "markdown",
   "id": "00cc703e-b228-4d24-bce3-50455bd44d83",
   "metadata": {},
   "source": [
    " # Visualization (Pie Chart Example)"
   ]
  },
  {
   "cell_type": "code",
   "execution_count": 33,
   "id": "5f5d144a-38be-4a71-8472-128002a98cfa",
   "metadata": {},
   "outputs": [
    {
     "data": {
      "image/png": "[encoded data removed]",
      "text/plain": [
       "<Figure size 640x480 with 1 Axes>"
      ]
     },
     "metadata": {},
     "output_type": "display_data"
    }
   ],
   "source": [
    "import matplotlib.pyplot as plt\n",
    "\n",
    "shares = [btc_share, eth_share, 100 - (btc_share + eth_share)]\n",
    "labels = [\"Bitcoin\", \"Ethereum\", \"Others\"]\n",
    "\n",
    "plt.pie(shares, labels=labels, autopct=\"%.1f%%\", startangle=90)\n",
    "plt.title(\"BTC & ETH Contribution to Total Market Cap\")\n",
    "plt.show()\n"
   ]
  },
  {
   "cell_type": "markdown",
   "id": "4d38f6e8-097e-440b-bab3-6a0819f2516e",
   "metadata": {},
   "source": [
    "# Univariate Analysis"
   ]
  },
  {
   "cell_type": "code",
   "execution_count": 34,
   "id": "f3827225-2717-4869-bd1e-4ca14e64ad5d",
   "metadata": {},
   "outputs": [
    {
     "data": {
      "text/plain": [
       "<Axes: xlabel='Price', ylabel='Count'>"
      ]
     },
     "execution_count": 34,
     "metadata": {},
     "output_type": "execute_result"
    },
    {
     "data": {
      "image/png": "[encoded data removed]",
      "text/plain": [
       "<Figure size 640x480 with 1 Axes>"
      ]
     },
     "metadata": {},
     "output_type": "display_data"
    }
   ],
   "source": [
    "sns.histplot(df[\"Price\"], bins=50, kde=True)\n"
   ]
  },
  {
   "cell_type": "markdown",
   "id": "1769719d-8df3-4694-b588-612da2e90dfb",
   "metadata": {},
   "source": [
    "# Boxplot (detect outliers in MarketCap)"
   ]
  },
  {
   "cell_type": "code",
   "execution_count": 35,
   "id": "2a6f9535-ada3-44fa-bc2c-f172396c558c",
   "metadata": {},
   "outputs": [
    {
     "data": {
      "image/png": "[encoded data removed]",
      "text/plain": [
       "<Figure size 640x480 with 1 Axes>"
      ]
     },
     "metadata": {},
     "output_type": "display_data"
    }
   ],
   "source": [
    "sns.boxplot(x=df[\"Market Cap\"])\n",
    "plt.title(\"Distribution of Cryptocurrency Market Capitalizations\", fontsize=14)\n",
    "plt.show()\n"
   ]
  },
  {
   "cell_type": "markdown",
   "id": "2fcbdab2-901d-47a8-920c-b89eef23b1a9",
   "metadata": {},
   "source": [
    "# 2. Bivariate Plots (two variables together)"
   ]
  },
  {
   "cell_type": "code",
   "execution_count": 36,
   "id": "72551af3-e200-43d7-93e9-042e048c0ceb",
   "metadata": {},
   "outputs": [
    {
     "data": {
      "image/png": "[encoded data removed]",
      "text/plain": [
       "<Figure size 640x480 with 1 Axes>"
      ]
     },
     "metadata": {},
     "output_type": "display_data"
    }
   ],
   "source": [
    "sns.scatterplot(x=\"Market Cap\", y=\"Volume 24h\", data=df)\n",
    "plt.title(\"Relationship Between Market Capitalization and 24h Trading Volume\", fontsize=14)\n",
    "plt.show()\n"
   ]
  },
  {
   "cell_type": "code",
   "execution_count": null,
   "id": "592637fe-adce-4972-8e20-52c82a3fd9ae",
   "metadata": {},
   "outputs": [],
   "source": []
  },
  {
   "cell_type": "code",
   "execution_count": 37,
   "id": "8ce5de76-1147-4f9f-bb8e-e5eb1141475b",
   "metadata": {},
   "outputs": [
    {
     "data": {
      "image/png": "[encoded data removed]",
      "text/plain": [
       "<Figure size 640x480 with 1 Axes>"
      ]
     },
     "metadata": {},
     "output_type": "display_data"
    }
   ],
   "source": [
    "top10 = df.nlargest(10, \"Market Cap\")\n",
    "\n",
    "sns.boxplot(x=\"Name\", y=\"Market Cap\", data=top10)\n",
    "plt.xticks(rotation=45)\n",
    "plt.title(\"Market Capitalization Distribution of Top 10 Cryptocurrencies\", fontsize=14)\n",
    "plt.show()\n"
   ]
  },
  {
   "cell_type": "code",
   "execution_count": null,
   "id": "d9b0feff-1e73-4d5d-87c1-f87bcaeb5e02",
   "metadata": {},
   "outputs": [],
   "source": []
  },
  {
   "cell_type": "markdown",
   "id": "b336b2fc-d320-4c8d-8477-d78bcdb6bfc1",
   "metadata": {},
   "source": [
    "# Multivariate Analysis"
   ]
  },
  {
   "cell_type": "code",
   "execution_count": 38,
   "id": "1b16d308-0e4e-4953-bec0-40c0f9beaada",
   "metadata": {},
   "outputs": [
    {
     "data": {
      "image/png": "[encoded data removed]",
      "text/plain": [
       "<Figure size 1000x600 with 1 Axes>"
      ]
     },
     "metadata": {},
     "output_type": "display_data"
    }
   ],
   "source": [
    "plt.figure(figsize=(10,6))\n",
    "sns.scatterplot(x=\"Market Cap\", y=\"Price\", \n",
    "                size=\"Volume 24h\", sizes=(20, 2000), \n",
    "                alpha=0.5, data=df)\n",
    "\n",
    "plt.xscale(\"log\")\n",
    "plt.yscale(\"log\")\n",
    "plt.title(\"Bubble Chart: Market Cap vs Price with 24h Volume as Bubble Size\")\n",
    "plt.show()\n"
   ]
  },
  {
   "cell_type": "code",
   "execution_count": 39,
   "id": "82eb79fe-8069-49d5-9608-d0a0466c53f5",
   "metadata": {},
   "outputs": [
    {
     "data": {
      "image/png": "[encoded data removed]",
      "text/plain": [
       "<Figure size 640x480 with 2 Axes>"
      ]
     },
     "metadata": {},
     "output_type": "display_data"
    }
   ],
   "source": [
    "sns.heatmap(df[[\"Price\", \"Market Cap\", \"Volume 24h\"]].corr(), annot=True, cmap=\"coolwarm\")\n",
    "plt.title(\"Correlation Heatmap of Crypto Metrics\")\n",
    "plt.show()"
   ]
  },
  {
   "cell_type": "code",
   "execution_count": null,
   "id": "f2858978-eb84-457f-a4af-0ccbeaefcd3c",
   "metadata": {},
   "outputs": [],
   "source": []
  },
  {
   "cell_type": "code",
   "execution_count": null,
   "id": "f57d482b-3493-48ae-9fa0-fe1559d88be4",
   "metadata": {},
   "outputs": [],
   "source": []
  },
  {
   "cell_type": "code",
   "execution_count": null,
   "id": "22dd44de-5b6c-4bf8-be50-f3c6002af158",
   "metadata": {},
   "outputs": [],
   "source": []
  },
  {
   "cell_type": "code",
   "execution_count": null,
   "id": "3d978feb-a59f-4fd8-b4c1-391792a6efef",
   "metadata": {},
   "outputs": [],
   "source": []
  },
  {
   "cell_type": "code",
   "execution_count": null,
   "id": "3c4adbff-0bee-4a85-8130-728c7e6cc880",
   "metadata": {},
   "outputs": [],
   "source": []
  },
  {
   "cell_type": "code",
   "execution_count": null,
   "id": "ca593995-f989-4c17-91c0-aa35b03218b7",
   "metadata": {},
   "outputs": [],
   "source": []
  },
  {
   "cell_type": "code",
   "execution_count": null,
   "id": "8f7ea20f-c548-4e23-b339-fd96d690f4c9",
   "metadata": {},
   "outputs": [],
   "source": []
  },
  {
   "cell_type": "code",
   "execution_count": null,
   "id": "9e3c7ef9-3afa-4fdb-a974-50663c319a1f",
   "metadata": {},
   "outputs": [],
   "source": []
  },
  {
   "cell_type": "code",
   "execution_count": null,
   "id": "09ec424d-fc80-4a27-92f2-331866428135",
   "metadata": {},
   "outputs": [],
   "source": []
  },
  {
   "cell_type": "code",
   "execution_count": null,
   "id": "5d488d0c-ddf3-4e9a-abf1-05ad133ae6b2",
   "metadata": {},
   "outputs": [],
   "source": []
  }
 ],
 "metadata": {
  "kernelspec": {
   "display_name": "Python 3 (ipykernel)",
   "language": "python",
   "name": "python3"
  },
  "language_info": {
   "codemirror_mode": {
    "name": "ipython",
    "version": 3
   },
   "file_extension": ".py",
   "mimetype": "text/x-python",
   "name": "python",
   "nbconvert_exporter": "python",
   "pygments_lexer": "ipython3",
   "version": "3.12.7"
  }
 },
 "nbformat": 4,
 "nbformat_minor": 5
}
